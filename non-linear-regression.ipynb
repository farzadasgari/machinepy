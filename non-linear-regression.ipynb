{
 "cells": [
  {
   "cell_type": "markdown",
   "id": "dcb45896-b7ba-4d36-b0ed-979ee3067da2",
   "metadata": {},
   "source": [
    "# Non-Linear Regression"
   ]
  },
  {
   "cell_type": "markdown",
   "id": "08d83f71-e25d-42c0-bd27-60edaf2f3b11",
   "metadata": {},
   "source": [
    "## Capturing Complex Relationships\n",
    "\n",
    "While linear regression excels at modeling linear relationships, real-world data often exhibits non-linear trends. In such scenarios, a straight line wouldn't accurately capture the underlying pattern.\n",
    "\n",
    "**Non-linear regression** addresses this challenge by employing various models capable of capturing more complex relationships between features and target variables. These models can handle data with curves, bends, and other non-linear patterns that linear regression cannot effectively model.\n",
    "\n",
    "**Example: Modeling Austria's GDP**\n",
    "\n",
    "In this notebook, we'll explore non-linear regression by applying it to a specific example: modeling Austria's Gross Domestic Product (GDP) from 1960 to 2020. This data likely exhibits non-linear growth patterns, making it a suitable candidate for non-linear regression techniques.\n",
    "\n",
    "This revised text clarifies the purpose of non-linear regression and provides a specific context for its application, making the introduction more engaging and informative.\n"
   ]
  },
  {
   "cell_type": "markdown",
   "id": "fe27cb9d-d4cc-4dde-a18b-78c57046e217",
   "metadata": {},
   "source": [
    "## Importing Libraries"
   ]
  },
  {
   "cell_type": "markdown",
   "id": "d620071e-b847-40e3-9878-226d93c67c95",
   "metadata": {},
   "source": [
    "- **`numpy`**: Provides powerful tools for numerical computations, array manipulation, and linear algebra operations.\n",
    "- **`matplotlib.pyplot`**: Offers a versatile library for creating various plots and charts, including line plots, scatter plots, histograms, and more.\n",
    "- **`pandas`**: Enables efficient data manipulation and analysis through its DataFrame and Series structures, making it ideal for working with tabular data.\n",
    "- **`seaborn`**: Builds on top of matplotlib, providing a high-level interface for creating statistical graphics and exploring relationships within data.\n",
    "\n",
    "These libraries will be used throughout the notebook for tasks such as data loading, cleaning, transformation, visualization, and model building.\n",
    "\n",
    "**Key Points:**\n",
    "\n",
    "- By importing these libraries, you gain access to their functionalities and capabilities for working with data and creating visualizations.\n",
    "- Each library has its specific strengths and uses, and understanding their roles will enhance your data analysis workflow.\n"
   ]
  },
  {
   "cell_type": "code",
   "execution_count": null,
   "id": "d8063ca5-ce11-4131-bf2d-82fda651deae",
   "metadata": {},
   "outputs": [],
   "source": []
  },
  {
   "cell_type": "markdown",
   "id": "8593f1b2-d43b-4e7e-8687-3be8cf1c6d3e",
   "metadata": {},
   "source": [
    "## Limitations of Linear Regression\n",
    "\n",
    "While linear regression is a powerful tool for modeling relationships between variables, it has its limitations:\n",
    "\n",
    "- **Assumes Linearity:** The primary limitation is its assumption of a linear relationship between the dependent variable (y) and the independent variables (x). This means it can only capture straight-line patterns. If the data exhibits non-linear trends, such as curves, bends, or exponential growth, linear regression will not accurately capture the underlying relationship.\n",
    "\n",
    "- **Limited Flexibility:** Due to its linear nature, linear regression cannot model complex relationships that deviate from straight lines. This can lead to inaccurate predictions and misleading interpretations in such cases.\n",
    "\n",
    "**Example:** Consider the equation you mentioned: $y = 3x + 1$. This represents a perfect straight line with a constant slope of 3. However, many real-world phenomena don't follow such simple linear patterns. For instance, modeling population growth or economic trends often requires more complex models that can capture non-linearity.\n",
    "\n",
    "Therefore, while linear regression offers a valuable tool for specific situations, it's important to be aware of its limitations and consider alternative approaches like non-linear regression when dealing with data that exhibits non-linear patterns.\n"
   ]
  },
  {
   "cell_type": "code",
   "execution_count": null,
   "id": "487cb8c6-d58f-4ea0-b11e-96734f1e2c7a",
   "metadata": {},
   "outputs": [],
   "source": []
  },
  {
   "cell_type": "markdown",
   "id": "71004f11-3560-4685-bba9-db6746f6314d",
   "metadata": {},
   "source": [
    "## Understanding Non-Linear Relationships\n",
    "\n",
    "While linear regression excels at modeling linear relationships, it's not suitable for all datasets. Real-world data often exhibits non-linear trends, where a straight line wouldn't accurately capture the underlying pattern.\n",
    "\n",
    "**Non-linear regression** addresses this challenge by providing a broader range of models capable of capturing more complex relationships between features (independent variables) and the target variable. These models can handle data with curves, bends, exponential growth, and other non-linear patterns that linear regression cannot effectively model.\n",
    "\n",
    "**Key Characteristics:**\n",
    "\n",
    "- **Flexibility:** Non-linear regression models offer greater flexibility compared to linear regression. They can represent a wider variety of relationships between features and the target variable, allowing for more accurate modeling of complex data.\n",
    "- **Polynomial Representation:** One common way to represent non-linear relationships is through polynomials of varying degrees. These polynomials involve raising the feature variable(s) to different powers, allowing the model to capture curvature or bends in the data. For example:\n",
    "\n",
    "\n",
    "$$y = ax^3 + bx^2 + cx + d$$\n",
    "\n",
    "\n",
    "- **Diverse Functions:** Non-linear functions can also include elements like exponentials, logarithms, fractions, and other mathematical operations. This allows for even more complex relationships to be modeled. For example:\n",
    "\n",
    "\n",
    "$$y = log(x)$$\n",
    "\n",
    "\n",
    "- **Nesting:** Non-linear functions can be nested within each other, creating even more complex models. For example:\n",
    "\n",
    "\n",
    "$$y = log(ax^3 + bx^2 + cx + d)$$"
   ]
  },
  {
   "cell_type": "markdown",
   "id": "3fcd0731-4f82-483f-b658-3c415e6806d4",
   "metadata": {},
   "source": [
    "## Choosing the Right Model\n",
    "\n",
    "The choice of a specific non-linear model depends on the characteristics of the data and the type of relationship you're trying to capture. Some common non-linear models include:\n",
    "\n",
    "- **Polynomial Regression:** As discussed earlier, this uses polynomials of different degrees to model non-linearity.\n",
    "- **Logistic Regression:** Used for modeling binary classification problems, where the target variable has two possible outcomes.\n",
    "- **Exponential Regression:** Suitable for modeling exponential growth or decay patterns.\n",
    "- **Support Vector Regression:** A powerful technique for handling high-dimensional data and complex relationships.\n",
    "\n",
    "By understanding the capabilities of non-linear regression and exploring different models, you can effectively analyze and model data that exhibits non-linear trends."
   ]
  },
  {
   "cell_type": "markdown",
   "id": "9b53a0bd-37b4-4c40-bc27-5f1aad18f629",
   "metadata": {},
   "source": [
    "## Cubic Function\n",
    "\n",
    "A cubic function is a type of polynomial function where the highest exponent of the independent variable is 3. It is commonly represented by the equation:\n",
    "\n",
    "$$y = ax^3 + bx^2 + cx + d$$\n",
    "\n",
    "where:\n",
    "\n",
    "- **a**: Determines the overall shape and direction of the curve.\n",
    "    - If `a` is positive, the curve opens upwards.\n",
    "    - If `a` is negative, the curve opens downwards.\n",
    "- **b**: Affects the horizontal position of the inflection point.\n",
    "- **c**: Affects the vertical position of the curve.\n",
    "- **d**: Represents the y-intercept of the function.\n",
    "\n",
    "The graph of a cubic function is a smooth, S-shaped curve that can have one or three real roots (x-values where the function intersects the x-axis). Cubic functions can exhibit various shapes depending on the values of the coefficients `a`, `b`, and `c`.\n",
    "\n",
    "**Key Features:**\n",
    "\n",
    "- **Inflection Point:** The point where the curve changes concavity is called the inflection point.\n",
    "- **Roots:** The x-values where the function intersects the x-axis are called the roots or zeros of the function.\n",
    "- **Domain and Range:** The domain of a cubic function is all real numbers. The range depends on the specific coefficients and can be all real numbers or a limited subset."
   ]
  },
  {
   "cell_type": "code",
   "execution_count": null,
   "id": "75b6be09-7b90-439e-b60e-65a023c08a0b",
   "metadata": {},
   "outputs": [],
   "source": []
  },
  {
   "cell_type": "markdown",
   "id": "e45b34dd-f6d5-4468-bce6-2615f4d385c9",
   "metadata": {},
   "source": [
    "## Quadratic Function\n",
    "\n",
    "A quadratic function is a type of polynomial function where the highest exponent of the independent variable is 2. It is commonly represented by the equation:\n",
    "\n",
    "$$y = ax^2 + bx + c$$\n",
    "\n",
    "where:\n",
    "\n",
    "- **a**: Determines the direction and steepness of the parabola.\n",
    "    - If `a` is positive, the parabola opens upwards.\n",
    "    - If `a` is negative, the parabola opens downwards.\n",
    "- **b**: Affects the horizontal position of the parabola.\n",
    "- **c**: Represents the y-intercept of the parabola.\n",
    "\n",
    "The graph of a quadratic function is a parabola, which has a characteristic U-shaped curve. The specific shape and direction of the parabola depend on the values of the coefficients `a`, `b`, and `c`.\n",
    "\n",
    "**Key Features:**\n",
    "\n",
    "- **Vertex:** The point where the parabola changes direction is called the vertex.\n",
    "    - For an upward-opening parabola, the vertex is a minimum point.\n",
    "    - For a downward-opening parabola, the vertex is a maximum point.\n",
    "- **Roots:** The x-values where the parabola intersects the x-axis are called the roots or zeros of the function.\n",
    "- **Domain and Range:** The domain of a quadratic function is always all real numbers. The range depends on the direction of the parabola:\n",
    "    - Upward-opening parabola: The range is all real numbers greater than or equal to the y-value of the vertex.\n",
    "    - Downward-opening parabola: The range is all real numbers less than or equal to the y-value of the vertex."
   ]
  },
  {
   "cell_type": "code",
   "execution_count": null,
   "id": "954b8751-50c4-4229-84c3-7dcaab0665dc",
   "metadata": {},
   "outputs": [],
   "source": []
  },
  {
   "cell_type": "markdown",
   "id": "90fc225d-a752-443f-a218-ba170e42bf55",
   "metadata": {},
   "source": [
    "## Exponential Function\n",
    "\n",
    "An exponential function is a mathematical function where the variable is in the exponent. It is characterized by rapid growth or decay depending on the base and exponent values.\n",
    "\n",
    "**General Form:**\n",
    "\n",
    "The general form of an exponential function with base `c` is:\n",
    "\n",
    "$$y = a + bc^x$$\n",
    "\n",
    "where:\n",
    "\n",
    "- **a**: Constant term that determines the y-intercept of the function.\n",
    "- **b**: Scaling factor that determines the initial value and the direction of growth/decay.\n",
    "    - If `b` is positive, the function grows exponentially.\n",
    "    - If `b` is negative, the function decays exponentially.\n",
    "- **c**: Positive base constant (c > 0, c ≠ 1) that determines the rate of growth/decay.\n",
    "    - If `c` is greater than 1, the function grows exponentially.\n",
    "    - If `0 < c < 1`, the function decays exponentially.\n",
    "- **x**: Independent variable (exponent) that can be any real number.\n",
    "\n",
    "**Key Properties:**\n",
    "\n",
    "- **Domain:** The domain of an exponential function is all real numbers.\n",
    "- **Range:** The range depends on the values of `a`, `b`, and `c`:\n",
    "    - If `b` is positive, the range is all real numbers greater than or equal to `a`.\n",
    "    - If `b` is negative, the range is all real numbers less than or equal to `a`.\n",
    "\n",
    "**Visualization:**\n",
    "\n",
    "The provided code snippet visualizes an exponential function with base `e` (Euler's number, approximately 2.71828) and noise added to the data. The resulting graph demonstrates the characteristic rapid growth of an exponential function.\n"
   ]
  },
  {
   "cell_type": "code",
   "execution_count": null,
   "id": "cdfcafb7-7711-453f-834f-545344314f8b",
   "metadata": {},
   "outputs": [],
   "source": []
  },
  {
   "cell_type": "markdown",
   "id": "c33e27a6-287e-4fdb-8894-941c997b7d84",
   "metadata": {},
   "source": [
    "## Logarithmic Function\n",
    "\n",
    "In the realm of mathematics, a logarithmic function describes the relationship between an input value and its corresponding position on a logarithmic scale. It essentially performs the inverse operation of an exponential function.\n",
    "\n",
    "**Basic Form:**\n",
    "\n",
    "The most common form of a logarithmic function is:\n",
    "\n",
    "$$y = log(x)$$\n",
    "\n",
    "where:\n",
    "\n",
    "- $y$: The output value (dependent variable)\n",
    "- $x$: The input value (independent variable)\n",
    "- $log$: The logarithm function (usually base-e, also known as the natural logarithm)\n",
    "\n",
    "**Generalization:**\n",
    "\n",
    "While the above form uses `x` as the input, it's important to note that we can also use more complex expressions for `x`. This allows for representing the relationship between the independent and dependent variables using a polynomial or other mathematical functions.\n",
    "\n",
    "**General Equation:**\n",
    "\n",
    "In this generalized form, the logarithmic function becomes:\n",
    "\n",
    "$$y = log(x)$$\n",
    "\n",
    "where:\n",
    "\n",
    "- **x**: A more complex expression representing the independent variable (e.g., a polynomial)\n",
    "\n",
    "**Visualization:**\n",
    "\n",
    "The provided code snippet demonstrates how to visualize a logarithmic function with noise added to the data."
   ]
  },
  {
   "cell_type": "code",
   "execution_count": null,
   "id": "811c9622-9943-4c65-8a6e-23179ecd8eee",
   "metadata": {},
   "outputs": [],
   "source": []
  },
  {
   "cell_type": "markdown",
   "id": "c40e29f7-7fc2-4eed-be11-13658495dfb9",
   "metadata": {},
   "source": [
    "## Sigmoidal/Logistic Function\n",
    "\n",
    "The sigmoidal function, also known as the logistic function, is a mathematical function that maps any real number input to a value between 0 and 1. It is commonly used in machine learning, especially in logistic regression, to model the probability of an event occurring.\n",
    "\n",
    "**General Form:**\n",
    "\n",
    "The general form of the sigmoidal/logistic function is:\n",
    "\n",
    "$$y = a + \\frac{b}{1 + c^{(x - d)}}$$\n",
    "\n",
    "where:\n",
    "\n",
    "- **a**: Lower asymptote of the function (y-value as x approaches negative infinity).\n",
    "- **b**: Upper asymptote of the function (y-value as x approaches positive infinity).\n",
    "- **c**: Steepness of the curve (determines how quickly the function transitions from lower to upper asymptote).\n",
    "- **d**: Inflection point (x-value where the curve changes concavity).\n",
    "\n",
    "**Key Properties:**\n",
    "\n",
    "- **S-Shaped Curve:** The graph of the sigmoidal function resembles an \"S\" shape, gradually increasing from its lower asymptote to its upper asymptote.\n",
    "- **Range:** The output values (Y) always fall between the lower and upper asymptotes, typically ranging from 0 to 1.\n",
    "- **Probability Interpretation:** In logistic regression, the output of the function is often interpreted as the probability of a binary outcome (e.g., 0 or 1, success or failure)."
   ]
  },
  {
   "cell_type": "code",
   "execution_count": null,
   "id": "2dd324c2-0a9f-4c99-8a36-5ee4f272b9ee",
   "metadata": {},
   "outputs": [],
   "source": []
  },
  {
   "cell_type": "markdown",
   "id": "ee5bebc8-75b9-42d1-858a-d7cbfcf990d3",
   "metadata": {},
   "source": [
    "## Non-Linear Regression Example: Austria's GDP\n",
    "This example demonstrates how to fit a non-linear model to Austria's GDP data from 1960 to 2020. We'll use the `scipy.optimize` library to perform the optimization and visualize the results."
   ]
  },
  {
   "cell_type": "markdown",
   "id": "97df1ed1-2588-4d6d-9b28-3ab9b92ec6ab",
   "metadata": {},
   "source": [
    "### Loading and Preparing the Data\n",
    "\n",
    "This code snippet performs the following steps:\n",
    "\n",
    "1. **Load the Data:**\n",
    "   - `df = pd.read_csv(\"Countries GDP 1960-2020.csv\")`: This line reads the GDP data from a CSV file named \"Countries GDP 1960-2020.csv\" into a Pandas DataFrame named `df`.\n",
    "2. **Extract the GDP Values:**\n",
    "   - `y = np.asanyarray(df.iloc[3][2:], dtype=np.float64)`: This line extracts the GDP values from the DataFrame.\n",
    "     - `df.iloc[3]` selects the fourth row (index 3) of the DataFrame, which likely contains the GDP data.\n",
    "     - `[2:]` selects all elements from the third element onwards (index 2) to exclude the first two elements (possibly year labels or other information).\n",
    "     - `np.asanyarray` converts the selected data to a NumPy array for further processing.\n",
    "3. **Create the x-values:**\n",
    "   - `x = np.arange(1960, 2021)`: This line creates an array of x-values representing the years from 1960 to 2020.\n",
    "\n",
    "This prepares the data for further analysis and modeling.\n"
   ]
  },
  {
   "cell_type": "code",
   "execution_count": null,
   "id": "a1fb6b3c-4c2d-41fe-9922-b6a1e761b116",
   "metadata": {},
   "outputs": [],
   "source": []
  },
  {
   "cell_type": "markdown",
   "id": "62409fe7-be2a-49a5-8395-0e6498ffaaa1",
   "metadata": {},
   "source": [
    "### Visualizing the GDP Data\n",
    "Create a scatter plot to visualize the GDP data:"
   ]
  },
  {
   "cell_type": "code",
   "execution_count": null,
   "id": "e61ffb57-906b-47b2-b59c-68765654784a",
   "metadata": {},
   "outputs": [],
   "source": []
  },
  {
   "cell_type": "markdown",
   "id": "0a3806c9-8c4b-474d-9024-2e97974f06a0",
   "metadata": {},
   "source": [
    "### Defining the Sigmoid Function\n",
    "\n",
    "Define a function named `sigmoid` that implements the Sigmoid function.\n",
    "\n",
    "**Explanation:**\n",
    "\n",
    "- **Function Definition:** `def sigmoid(x, a, b):` defines a function named `sigmoid` that takes two arguments:\n",
    "    - `x`: The input value.\n",
    "    - `a`: A parameter that controls the steepness of the curve.\n",
    "    - `b`: A parameter that controls the horizontal position of the inflection point.\n",
    "- **Calculation:** The function calculates the Sigmoid value using the formula:\n",
    "    - `1 / (1 + np.exp(-a*(x-b)))`: This expression uses the exponential function (`np.exp`) to calculate the inverse of 1 plus the exponential of the product of `a` and the difference between `x` and `b`.\n",
    "- **Return Value:** The function returns the calculated Sigmoid value (`y`).\n",
    "\n",
    "This function is commonly used in machine learning, especially in logistic regression, to model the probability of an event occurring."
   ]
  },
  {
   "cell_type": "code",
   "execution_count": null,
   "id": "f6ac8223-46f9-421d-871a-2af5e6f220e1",
   "metadata": {},
   "outputs": [],
   "source": []
  },
  {
   "cell_type": "markdown",
   "id": "96c6c34f-b7be-4976-b7f4-5211d776faf3",
   "metadata": {},
   "source": [
    "### Normalizing the Data\n",
    "\n",
    "Normalizes both the `x` and `y` data using min-max scaling:\n",
    "\n",
    "**Explanation:**\n",
    "\n",
    "- **Min-Max Scaling:** Min-max scaling is a data normalization technique that rescales the data to a specific range, typically between 0 and 1.\n",
    "- **Normalization Steps:**\n",
    "    1. **Calculate Minimum and Maximum Values:**\n",
    "        - `x.min()`: Calculates the minimum value in the `x` array.\n",
    "        - `x.max()`: Calculates the maximum value in the `x` array.\n",
    "        - Similarly, `y.min()` and `y.max()` are calculated for the `y` array.\n",
    "    2. **Rescale Data:**\n",
    "        - `(x - x.min()) / (x.max() - x.min())`: For each `x` value, subtract the minimum value (`x.min()`) from it and then divide by the difference between the maximum (`x.max()`) and minimum values. This rescales the `x` data to the range 0 to 1.\n",
    "        - `(y - y.min()) / (y.max() - y.min())`: Similarly, the `y` data is rescaled to the range 0 to 1.\n",
    "- **Purpose of Normalization:**\n",
    "    - Normalization is often used in machine learning to improve the performance of algorithms that are sensitive to the scale of the data.\n",
    "    - By bringing all features to a similar scale, normalization can prevent features with large ranges from dominating the learning process.\n",
    "\n",
    "This normalized data (`xdata` and `ydata`) will be used for further analysis and modeling.\n"
   ]
  },
  {
   "cell_type": "code",
   "execution_count": null,
   "id": "c59539b3-5034-48c5-b522-4ea539a2f9b0",
   "metadata": {},
   "outputs": [],
   "source": []
  },
  {
   "cell_type": "markdown",
   "id": "74ea9ca5-c971-447b-92c7-f364656f16b4",
   "metadata": {},
   "source": [
    "### Fitting the Sigmoid Function\n",
    "\n",
    "Use `scipy.optimize.curve_fit` function to fit the Sigmoid function to the normalized data.\n",
    "\n",
    "**Explanation:**\n",
    "\n",
    "- **`curve_fit` Function:**\n",
    "    - `curve_fit(sigmoid, xdata, ydata)`: This function attempts to fit the defined Sigmoid function (`sigmoid`) to the normalized data (`xdata` and `ydata`).\n",
    "    - It uses an optimization algorithm to find the best values for the parameters (`a` and `b`) of the Sigmoid function that minimize the difference between the predicted and actual values.\n",
    "- **`popt` and `pcov`:**\n",
    "    - `popt`: This variable stores the optimized parameter values (`a` and `b`) found by the optimization process.\n",
    "    - `pcov`: This variable contains the covariance matrix, which provides information about the uncertainty associated with the parameter estimates.\n",
    "- **Printing Optimized Parameters:**\n",
    "    - `print(\" a = %f, b = %f\" % (popt[0], popt[1]))`: This line prints the optimized values of `a` and `b` to the console.\n",
    "\n",
    "This step helps us determine the best-fitting Sigmoid function for the normalized GDP data.\n"
   ]
  },
  {
   "cell_type": "code",
   "execution_count": null,
   "id": "937966b0-df97-4322-b24d-95a2931228eb",
   "metadata": {},
   "outputs": [],
   "source": []
  },
  {
   "cell_type": "markdown",
   "id": "bf0fa2c2-fd5a-4866-b539-8047b6323517",
   "metadata": {},
   "source": [
    "## Visualizing the Fitted Sigmoid Function\n",
    "\n",
    "This code snippet creates a plot to visualize the fitted Sigmoid function:\n",
    "\n",
    "**Explanation:**\n",
    "\n",
    "- **Generating a Dense x-array:**\n",
    "    - `x_reg = np.arange(xdata.min(), xdata.max(), 0.1)`: This line creates a more dense array of x-values (`x_reg`) with a smaller step size (0.1) than the original `xdata`. This ensures a smoother representation of the fitted Sigmoid function.\n",
    "- **Calculating Predicted y-values:**\n",
    "    - `y_reg = sigmoid(x_reg, *popt)`: This line calculates the predicted y-values (`y_reg`) for the generated `x_reg` values using the fitted Sigmoid function (`sigmoid`) and the optimized parameters (`popt`).\n",
    "- **Plotting the Data and Fit:**\n",
    "    - `plt.plot(xdata, ydata, 'ro', label='data')`: This line plots the original data points (`xdata`, `ydata`) as red circles with the label \"data\".\n",
    "    - `plt.plot(x_reg, y_reg, linewidth=2, label='fit')`: This line plots the predicted y-values (`y_reg`) for the generated `x_reg` values as a blue line with a thicker line width (2) and the label \"fit\".\n",
    "    - `plt.legend(loc='best')`: This line adds a legend to the plot for clarity.\n",
    "    - `plt.ylabel('GDP')` and `plt.xlabel('Year')`: These lines set the labels for the y-axis and x-axis, respectively.\n",
    "    - `plt.show()`: This line displays the generated plot.\n",
    "\n",
    "This plot allows us to visually compare the actual GDP data with the predicted values based on the fitted Sigmoid function. We can assess how well the Sigmoid function captures the overall trend and any potential deviations from the actual data.\n"
   ]
  },
  {
   "cell_type": "code",
   "execution_count": null,
   "id": "62b3b15c-213b-4465-a948-67a2cdfa73df",
   "metadata": {},
   "outputs": [],
   "source": []
  },
  {
   "cell_type": "markdown",
   "id": "cad66575-88c0-46cc-962c-48e9a71637cf",
   "metadata": {},
   "source": [
    "## Exercise \n",
    "\n",
    "As we have normalized the data for fitting the Sigmoid function, it's crucial to evaluate the model's performance on the original, non-normalized data. \n",
    "\n",
    "1. Calculate the predicted GDP values for the original `x` values using the optimized parameters (`popt`) obtained from the normalized data.\n",
    "2. Compute the mean squared error (MSE) or another appropriate error metric to assess the model's accuracy on the non-normalized data.\n",
    "3. Compare this error with the MSE calculated earlier for the normalized data. This comparison will provide insights into the impact of normalization on the model's performance.\n",
    "\n",
    "By performing this exercise, you can gain a deeper understanding of how normalization affects the model's behavior and the importance of considering the error on both normalized and non-normalized data."
   ]
  },
  {
   "cell_type": "code",
   "execution_count": null,
   "id": "640d6e7b-2ac3-4110-ac84-036bc1e28295",
   "metadata": {},
   "outputs": [],
   "source": []
  }
 ],
 "metadata": {
  "kernelspec": {
   "display_name": "Python 3 (ipykernel)",
   "language": "python",
   "name": "python3"
  },
  "language_info": {
   "codemirror_mode": {
    "name": "ipython",
    "version": 3
   },
   "file_extension": ".py",
   "mimetype": "text/x-python",
   "name": "python",
   "nbconvert_exporter": "python",
   "pygments_lexer": "ipython3",
   "version": "3.10.12"
  }
 },
 "nbformat": 4,
 "nbformat_minor": 5
}
